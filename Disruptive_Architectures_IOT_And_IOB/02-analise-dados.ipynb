{
 "cells": [
  {
   "cell_type": "markdown",
   "metadata": {},
   "source": [
    "## 2. Análise dos Dados\n",
    "\n",
    "**Base para Cálculo de Custos de Energia**\n",
    "\n",
    "No nosso conteúdo geral de explicação, detalhei como iremos chegar nos valores e com base em dados reais. Nada que faremos aqui, será inventado.\n"
   ]
  },
  {
   "cell_type": "code",
   "execution_count": 1,
   "metadata": {},
   "outputs": [],
   "source": [
    "import pandas as pd\n",
    "import matplotlib.pyplot as plt\n",
    "import seaborn as sns\n",
    "from sklearn.model_selection import train_test_split\n",
    "from sklearn.linear_model import LinearRegression\n",
    "from sklearn.metrics import mean_absolute_error, mean_squared_error, r2_score\n",
    "import pandas as pd\n",
    "from datetime import datetime, timedelta\n",
    "import random\n",
    "import classebancodados\n"
   ]
  },
  {
   "cell_type": "markdown",
   "metadata": {},
   "source": [
    "# 1. Estatísticas Descritivas\n",
    "\n",
    "Primeiro, vamos calcular as estatísticas descritivas para entender as características dos dados, como médias, medianas, desvio padrão, valores mínimos e máximos de consumo e custo. Vamos também fazer isso por ambiente, item e turno, para ter uma visão mais detalhada.\n"
   ]
  },
  {
   "cell_type": "code",
   "execution_count": 2,
   "metadata": {},
   "outputs": [
    {
     "name": "stdout",
     "output_type": "stream",
     "text": [
      "Estatísticas Gerais:\n",
      "       consumo_kwh  custo_estimado\n",
      "count  2000.000000     2000.000000\n",
      "mean      2.788945        2.158985\n",
      "std       1.309790        1.061540\n",
      "min       0.500000        0.320000\n",
      "25%       1.650000        1.240000\n",
      "50%       2.800000        2.120000\n",
      "75%       3.902500        2.980000\n",
      "max       4.990000        4.750000\n",
      "\n",
      "Estatísticas por Ambiente:\n",
      "           consumo_kwh                                                         \\\n",
      "                 count      mean       std   min     25%    50%     75%   max   \n",
      "ambiente                                                                        \n",
      "banheiro         286.0  2.898706  1.250848  0.52  1.8050  2.945  3.8975  4.98   \n",
      "cozinha          272.0  2.793235  1.322303  0.51  1.6200  2.865  3.8525  4.97   \n",
      "lavanderia       284.0  2.854296  1.321720  0.50  1.7700  2.910  4.0450  4.99   \n",
      "quarto1          262.0  2.601145  1.274010  0.54  1.6325  2.370  3.6800  4.99   \n",
      "quarto2          286.0  2.695385  1.369749  0.50  1.3850  2.710  3.8400  4.98   \n",
      "sacada           332.0  2.859187  1.329262  0.51  1.7200  2.870  4.0275  4.99   \n",
      "sala             278.0  2.794424  1.280203  0.51  1.6700  2.765  3.8775  4.99   \n",
      "\n",
      "           custo_estimado                                                   \\\n",
      "                    count      mean       std   min     25%    50%     75%   \n",
      "ambiente                                                                     \n",
      "banheiro            286.0  2.237028  1.028736  0.40  1.3825  2.225  3.0775   \n",
      "cozinha             272.0  2.139375  1.028152  0.32  1.2175  2.170  2.9450   \n",
      "lavanderia          284.0  2.193908  1.073317  0.36  1.3525  2.120  3.1025   \n",
      "quarto1             262.0  2.034427  1.058192  0.35  1.2000  1.825  2.8100   \n",
      "quarto2             286.0  2.079790  1.091102  0.37  1.0800  2.045  2.9750   \n",
      "sacada              332.0  2.223163  1.085396  0.39  1.3000  2.210  3.0100   \n",
      "sala                278.0  2.184424  1.053450  0.39  1.3125  2.150  2.9500   \n",
      "\n",
      "                  \n",
      "             max  \n",
      "ambiente          \n",
      "banheiro    4.61  \n",
      "cozinha     4.73  \n",
      "lavanderia  4.73  \n",
      "quarto1     4.64  \n",
      "quarto2     4.58  \n",
      "sacada      4.74  \n",
      "sala        4.75  \n",
      "\n",
      "Estatísticas por Item:\n",
      "                 consumo_kwh                                                   \\\n",
      "                       count      mean       std   min     25%    50%     75%   \n",
      "item                                                                            \n",
      "TV                      92.0  2.997826  1.256273  0.56  1.9375  3.160  4.1200   \n",
      "aquecedor              146.0  3.017671  1.194034  0.63  2.1350  3.120  4.0150   \n",
      "ar-condicionado        218.0  2.662936  1.241937  0.55  1.7625  2.445  3.7300   \n",
      "computador             128.0  2.752187  1.365771  0.59  1.4975  2.865  3.8400   \n",
      "geladeira               90.0  2.956667  1.220947  0.62  2.1400  3.065  3.9125   \n",
      "luz                    947.0  2.730876  1.328642  0.50  1.5900  2.710  3.8750   \n",
      "micro-ondas             95.0  2.798421  1.414892  0.51  1.4150  2.900  4.0950   \n",
      "máquina de lavar       284.0  2.854296  1.321720  0.50  1.7700  2.910  4.0450   \n",
      "\n",
      "                       custo_estimado                                    \\\n",
      "                   max          count      mean       std   min     25%   \n",
      "item                                                                      \n",
      "TV                4.99           92.0  2.337174  1.050024  0.43  1.4450   \n",
      "aquecedor         4.98          146.0  2.338356  1.007729  0.41  1.6250   \n",
      "ar-condicionado   4.99          218.0  2.066239  1.000973  0.35  1.2800   \n",
      "computador        4.97          128.0  2.131562  1.095935  0.45  1.1400   \n",
      "geladeira         4.96           90.0  2.251000  0.955113  0.47  1.5975   \n",
      "luz               4.99          947.0  2.122133  1.081303  0.36  1.2000   \n",
      "micro-ondas       4.97           95.0  2.136316  1.080518  0.32  1.0750   \n",
      "máquina de lavar  4.99          284.0  2.193908  1.073317  0.36  1.3525   \n",
      "\n",
      "                                       \n",
      "                    50%     75%   max  \n",
      "item                                   \n",
      "TV                2.510  3.0625  4.75  \n",
      "aquecedor         2.325  3.1175  4.61  \n",
      "ar-condicionado   1.875  2.6675  4.74  \n",
      "computador        2.085  3.0250  4.40  \n",
      "geladeira         2.325  2.9250  4.67  \n",
      "luz               2.090  2.9600  4.74  \n",
      "micro-ondas       2.120  3.0650  3.99  \n",
      "máquina de lavar  2.120  3.1025  4.73  \n",
      "\n",
      "Estatísticas por Turno:\n",
      "          consumo_kwh                                                        \\\n",
      "                count      mean       std   min     25%   50%     75%   max   \n",
      "turno                                                                         \n",
      "madrugada       305.0  2.763016  1.250314  0.51  1.7400  2.73  3.8400  4.99   \n",
      "manha          1100.0  2.781482  1.331937  0.50  1.6375  2.80  3.9025  4.99   \n",
      "noite           329.0  2.876079  1.330307  0.52  1.7300  2.89  4.0600  4.99   \n",
      "tarde           266.0  2.741767  1.259877  0.54  1.6525  2.70  3.8275  4.99   \n",
      "\n",
      "          custo_estimado                                                        \n",
      "                   count      mean       std   min     25%   50%     75%   max  \n",
      "turno                                                                           \n",
      "madrugada          305.0  1.752492  0.792655  0.32  1.1000  1.73  2.4400  3.16  \n",
      "manha             1100.0  2.116609  1.013597  0.38  1.2475  2.13  2.9725  3.80  \n",
      "noite              329.0  2.736049  1.265755  0.49  1.6500  2.75  3.8600  4.75  \n",
      "tarde              266.0  2.086579  0.958948  0.41  1.2600  2.05  2.9100  3.80  \n"
     ]
    }
   ],
   "source": [
    "\n",
    "# Carregar os dados\n",
    "df = pd.read_csv('historico_consumo')\n",
    "\n",
    "# Estatísticas descritivas gerais\n",
    "estatisticas_gerais = df[['consumo_kwh', 'custo_estimado']].describe()\n",
    "\n",
    "# Estatísticas descritivas por ambiente\n",
    "estatisticas_ambiente = df.groupby('ambiente')[['consumo_kwh', 'custo_estimado']].describe()\n",
    "\n",
    "# Estatísticas descritivas por item\n",
    "estatisticas_item = df.groupby('item')[['consumo_kwh', 'custo_estimado']].describe()\n",
    "\n",
    "# Estatísticas descritivas por turno\n",
    "estatisticas_turno = df.groupby('turno')[['consumo_kwh', 'custo_estimado']].describe()\n",
    "\n",
    "# Exibir as estatísticas\n",
    "print(\"Estatísticas Gerais:\")\n",
    "print(estatisticas_gerais)\n",
    "print(\"\\nEstatísticas por Ambiente:\")\n",
    "print(estatisticas_ambiente)\n",
    "print(\"\\nEstatísticas por Item:\")\n",
    "print(estatisticas_item)\n",
    "print(\"\\nEstatísticas por Turno:\")\n",
    "print(estatisticas_turno)\n"
   ]
  },
  {
   "cell_type": "markdown",
   "metadata": {},
   "source": [
    "# 2. Visualização de Dados\n",
    "\n",
    "Agora, vamos visualizar os dados para verificar como o consumo e o custo estão distribuídos. Podemos criar alguns gráficos, como histogramas, boxplots e gráficos de barras para entender essas distribuições."
   ]
  },
  {
   "cell_type": "code",
   "execution_count": 3,
   "metadata": {},
   "outputs": [
    {
     "data": {
      "image/png": "[encoded data removed]",
      "text/plain": [
       "<Figure size 1000x600 with 1 Axes>"
      ]
     },
     "metadata": {},
     "output_type": "display_data"
    }
   ],
   "source": [
    "\n",
    "\n",
    "# Gráfico de barras de consumo por ambiente\n",
    "plt.figure(figsize=(10,6))\n",
    "sns.boxplot(data=df, x='ambiente', y='consumo_kwh')\n",
    "plt.title('Distribuição de Consumo de Energia por Ambiente')\n",
    "plt.xlabel('Ambiente')\n",
    "plt.ylabel('Consumo (kWh)')\n",
    "plt.xticks(rotation=45)\n",
    "plt.tight_layout()\n",
    "plt.show()\n"
   ]
  },
  {
   "cell_type": "code",
   "execution_count": 4,
   "metadata": {},
   "outputs": [
    {
     "data": {
      "image/png": "[encoded data removed]",
      "text/plain": [
       "<Figure size 1000x600 with 1 Axes>"
      ]
     },
     "metadata": {},
     "output_type": "display_data"
    }
   ],
   "source": [
    "# Gráfico de barras de custo por turno\n",
    "plt.figure(figsize=(10,6))\n",
    "sns.boxplot(data=df, x='turno', y='custo_estimado')\n",
    "plt.title('Distribuição de Custo por Turno')\n",
    "plt.xlabel('Turno')\n",
    "plt.ylabel('Custo Estimado (R$)')\n",
    "plt.tight_layout()\n",
    "plt.show()\n"
   ]
  },
  {
   "cell_type": "markdown",
   "metadata": {},
   "source": [
    "***************"
   ]
  },
  {
   "cell_type": "markdown",
   "metadata": {},
   "source": [
    "# Fase 2: Modelagem de Previsão de Custo\n",
    "\n",
    "Nesta fase, vamos usar a análise de regressão para tentar prever o custo com base em variáveis como consumo_kwh, ambiente, item, e turno. Para isso, usaremos o modelo de Regressão Linear."
   ]
  },
  {
   "cell_type": "code",
   "execution_count": 5,
   "metadata": {},
   "outputs": [
    {
     "name": "stdout",
     "output_type": "stream",
     "text": [
      "Erro Médio Absoluto (MAE): 0.07\n",
      "Erro Quadrático Médio (MSE): 0.01\n",
      "R²: 0.99\n"
     ]
    }
   ],
   "source": [
    "\n",
    "# One-Hot Encoding das variáveis categóricas\n",
    "df_encoded = pd.get_dummies(df, columns=['ambiente', 'item', 'turno'], drop_first=True)\n",
    "\n",
    "# Definir variáveis independentes (X) e variável dependente (y)\n",
    "X = df_encoded.drop(['data', 'custo_estimado'], axis=1)\n",
    "y = df_encoded['custo_estimado']\n",
    "\n",
    "# Dividir os dados em treino (80%) e teste (20%)\n",
    "X_train, X_test, y_train, y_test = train_test_split(X, y, test_size=0.2, random_state=42)\n",
    "\n",
    "# Criar o modelo de regressão linear\n",
    "modelo = LinearRegression()\n",
    "\n",
    "# Treinar o modelo\n",
    "modelo.fit(X_train, y_train)\n",
    "\n",
    "# Fazer previsões com o conjunto de teste\n",
    "y_pred = modelo.predict(X_test)\n",
    "\n",
    "# Avaliar o modelo\n",
    "mae = mean_absolute_error(y_test, y_pred)\n",
    "mse = mean_squared_error(y_test, y_pred)\n",
    "r2 = r2_score(y_test, y_pred)\n",
    "\n",
    "print(f'Erro Médio Absoluto (MAE): {mae:.2f}')\n",
    "print(f'Erro Quadrático Médio (MSE): {mse:.2f}')\n",
    "print(f'R²: {r2:.2f}')\n"
   ]
  },
  {
   "cell_type": "markdown",
   "metadata": {},
   "source": [
    "Os resultados indicam que o modelo de regressão linear está performando muito bem!\n",
    "\n",
    "Erro Médio Absoluto (MAE): 0.07 — O erro médio da previsão é muito baixo, o que indica que as previsões estão bem próximas dos valores reais.\n",
    "\n",
    "Erro Quadrático Médio (MSE): 0.01 — Isso também demonstra que o modelo está com um erro muito pequeno nas previsões.\n",
    "\n",
    "R²: 0.99 — Um valor de R² tão alto (quase 1) significa que o modelo explica quase 99% da variabilidade dos dados, o que é excelente!\n",
    "\n",
    "Isso sugere que o modelo de Regressão Linear está capturando bem a relação entre o consumo e o custo estimado.\n",
    "\n",
    "****************************"
   ]
  },
  {
   "cell_type": "markdown",
   "metadata": {},
   "source": [
    "# Fase 3: Implantação e Validação do Modelo"
   ]
  },
  {
   "cell_type": "markdown",
   "metadata": {},
   "source": [
    "**Gerar base com 500 linhas para testar**"
   ]
  },
  {
   "cell_type": "code",
   "execution_count": 6,
   "metadata": {},
   "outputs": [
    {
     "name": "stdout",
     "output_type": "stream",
     "text": [
      "         data  ambiente               item  consumo_kwh  custo_estimado  turno\n",
      "0  2023-01-01  banheiro  secador de cabelo         4.16            2.50  tarde\n",
      "1  2023-01-02      sala          televisão         3.31            1.99  tarde\n",
      "2  2023-01-03  banheiro           chuveiro         3.86            2.32  manhã\n",
      "3  2023-01-04    quarto             abajur         4.92            2.95  manhã\n",
      "4  2023-01-05      sala          televisão         3.72            2.23  tarde\n",
      "5  2023-01-06      sala         ventilador         3.65            1.97  noite\n",
      "6  2023-01-07    quarto         ventilador         4.95            2.97  tarde\n",
      "7  2023-01-08      sala          televisão         1.97            1.18  manhã\n",
      "8  2023-01-09    quarto    ar condicionado         3.83            2.07  noite\n",
      "9  2023-01-10  banheiro           chuveiro         2.93            1.76  tarde\n"
     ]
    }
   ],
   "source": [
    "\n",
    "# Definindo os ambientes e itens\n",
    "ambientes = ['sala', 'cozinha', 'quarto', 'banheiro']\n",
    "itens = {\n",
    "    'sala': ['televisão', 'ventilador', 'ar condicionado'],\n",
    "    'cozinha': ['geladeira', 'microondas', 'fogão'],\n",
    "    'quarto': ['abajur', 'ventilador', 'ar condicionado'],\n",
    "    'banheiro': ['chuveiro', 'secador de cabelo']\n",
    "}\n",
    "\n",
    "# Função para gerar o consumo diário de energia (em kWh)\n",
    "def gerar_consumo_diario():\n",
    "    return round(random.uniform(1, 5), 2)  # consumo entre 1 e 5 kWh por dia\n",
    "\n",
    "# Função para calcular o custo com base no consumo e turno\n",
    "def calcular_custo(consumo_kwh, turno):\n",
    "    tarifa = 0.60  # R$ por kWh\n",
    "    if turno == 'noite':\n",
    "        tarifa *= 0.9  # desconto de 10% no turno da noite\n",
    "    return round(consumo_kwh * tarifa, 2)\n",
    "\n",
    "amostras_500 = []\n",
    "data_inicio = datetime(2023, 1, 1)\n",
    "\n",
    "for i in range(500):\n",
    "    data_consumo = data_inicio + timedelta(days=i)\n",
    "    ambiente = random.choice(ambientes)\n",
    "    item = random.choice(itens[ambiente])\n",
    "    turno = random.choice(['manhã', 'tarde', 'noite'])  \n",
    "    consumo_diario = gerar_consumo_diario()\n",
    "    custo = calcular_custo(consumo_diario, turno) \n",
    "    \n",
    "    amostras_500.append({\n",
    "        'data': data_consumo.strftime('%Y-%m-%d'),\n",
    "        'ambiente': ambiente,\n",
    "        'item': item,\n",
    "        'consumo_kwh': consumo_diario,\n",
    "        'custo_estimado': custo,\n",
    "        'turno': turno\n",
    "    })\n",
    "\n",
    "df_500 = pd.DataFrame(amostras_500)\n",
    "\n",
    "print(df_500.head(10))\n",
    "\n",
    "# Salvar os dados para teste (caso necessário)\n",
    "# df_500.to_csv('historico_consumo_teste.csv', index=False)\n"
   ]
  },
  {
   "cell_type": "markdown",
   "metadata": {},
   "source": [
    "# Testar"
   ]
  },
  {
   "cell_type": "code",
   "execution_count": 7,
   "metadata": {},
   "outputs": [
    {
     "name": "stdout",
     "output_type": "stream",
     "text": [
      "Valor estimado da conta: R$ 116.02\n"
     ]
    }
   ],
   "source": [
    "# Suponha que você tenha os dados de consumo do cliente:\n",
    "consumo_cliente = 150  # consumo_kwh\n",
    "turno_cliente = 'manha'  # turno\n",
    "item_cliente = 'geladeira'  # item\n",
    "\n",
    "# Criar o DataFrame para a previsão\n",
    "dados_cliente = pd.DataFrame({\n",
    "    'consumo_kwh': [consumo_cliente],\n",
    "    'turno': [turno_cliente],\n",
    "    'item': [item_cliente]\n",
    "})\n",
    "\n",
    "# Realizar o One-Hot Encoding\n",
    "dados_cliente_encoded = pd.get_dummies(dados_cliente, columns=['turno', 'item'], drop_first=True)\n",
    "\n",
    "# Garantir que as colunas estejam alinhadas com o modelo\n",
    "for coluna in modelo.feature_names_in_:\n",
    "    if coluna not in dados_cliente_encoded.columns:\n",
    "        dados_cliente_encoded[coluna] = 0\n",
    "\n",
    "dados_cliente_encoded = dados_cliente_encoded[modelo.feature_names_in_]\n",
    "\n",
    "# Fazer a previsão\n",
    "valor_conta_estimado = modelo.predict(dados_cliente_encoded)\n",
    "\n",
    "# Mostrar o valor da conta estimado\n",
    "print(f\"Valor estimado da conta: R$ {valor_conta_estimado[0]:.2f}\")\n"
   ]
  },
  {
   "cell_type": "markdown",
   "metadata": {},
   "source": [
    "# Aplicar meu modelo e criar a sugestão\n",
    "\n",
    "**Inserir este projeto na tela feita com dotnet**"
   ]
  },
  {
   "cell_type": "code",
   "execution_count": 9,
   "metadata": {},
   "outputs": [
    {
     "name": "stdout",
     "output_type": "stream",
     "text": [
      "Conexão com o banco de dados Oracle estabelecida com sucesso.\n",
      "   ID_CONSUMO  ID_USUARIO  ID_COMODO  ID_ITEM_CASA  CONSUMO DATA_CONSUMO\n",
      "0           1           1          1             5      1.0   2024-11-01\n",
      "1           2           2          2             3      2.0   2024-11-02\n",
      "2           3           3          3             4      3.0   2024-11-03\n",
      "3           4           4          4             2      4.0   2024-11-04\n",
      "4           5           5          5             7      5.0   2024-11-05\n",
      "Conexão com o banco de dados fechada.\n"
     ]
    },
    {
     "name": "stderr",
     "output_type": "stream",
     "text": [
      "/Users/claudiobispo/Documents/global-solutions-fiap-3-sem/Disruptive_Architectures_IOT_And_IOB/classebancodados.py:31: UserWarning: pandas only supports SQLAlchemy connectable (engine/connection) or database string URI or sqlite3 DBAPI2 connection. Other DBAPI2 objects are not tested. Please consider using SQLAlchemy.\n",
      "  df = pd.read_sql(consulta, self.conexao)\n"
     ]
    }
   ],
   "source": [
    "\n",
    "banco_dados = classebancodados.OperacaoBancoDados(nome_tabela='T_Consumo', nome_conexao='ConexaoOracle')\n",
    "\n",
    "conexao = banco_dados.conectar()\n",
    "\n",
    "if conexao:\n",
    "    consulta_consumo = \"SELECT * FROM T_CONSUMO\"\n",
    "    df_consumo = banco_dados.executar_consulta(consulta_consumo)\n",
    "\n",
    "    if df_consumo is not None:\n",
    "        #print(df_consumo.head())\n",
    "    else:\n",
    "        print(\"Falha ao recuperar os dados.\")\n",
    "\n",
    "    # Fechando a conexão\n",
    "    banco_dados.fechar_conexao()\n",
    "else:\n",
    "    print(\"Erro ao conectar ao banco de dados.\")\n"
   ]
  },
  {
   "cell_type": "code",
   "execution_count": 10,
   "metadata": {},
   "outputs": [
    {
     "data": {
      "text/html": [
       "<div>\n",
       "<style scoped>\n",
       "    .dataframe tbody tr th:only-of-type {\n",
       "        vertical-align: middle;\n",
       "    }\n",
       "\n",
       "    .dataframe tbody tr th {\n",
       "        vertical-align: top;\n",
       "    }\n",
       "\n",
       "    .dataframe thead th {\n",
       "        text-align: right;\n",
       "    }\n",
       "</style>\n",
       "<table border=\"1\" class=\"dataframe\">\n",
       "  <thead>\n",
       "    <tr style=\"text-align: right;\">\n",
       "      <th></th>\n",
       "      <th>ID_CONSUMO</th>\n",
       "      <th>ID_USUARIO</th>\n",
       "      <th>ID_COMODO</th>\n",
       "      <th>ID_ITEM_CASA</th>\n",
       "      <th>CONSUMO</th>\n",
       "      <th>DATA_CONSUMO</th>\n",
       "    </tr>\n",
       "  </thead>\n",
       "  <tbody>\n",
       "    <tr>\n",
       "      <th>0</th>\n",
       "      <td>1</td>\n",
       "      <td>1</td>\n",
       "      <td>1</td>\n",
       "      <td>5</td>\n",
       "      <td>1.0</td>\n",
       "      <td>2024-11-01</td>\n",
       "    </tr>\n",
       "    <tr>\n",
       "      <th>1</th>\n",
       "      <td>2</td>\n",
       "      <td>2</td>\n",
       "      <td>2</td>\n",
       "      <td>3</td>\n",
       "      <td>2.0</td>\n",
       "      <td>2024-11-02</td>\n",
       "    </tr>\n",
       "    <tr>\n",
       "      <th>2</th>\n",
       "      <td>3</td>\n",
       "      <td>3</td>\n",
       "      <td>3</td>\n",
       "      <td>4</td>\n",
       "      <td>3.0</td>\n",
       "      <td>2024-11-03</td>\n",
       "    </tr>\n",
       "    <tr>\n",
       "      <th>3</th>\n",
       "      <td>4</td>\n",
       "      <td>4</td>\n",
       "      <td>4</td>\n",
       "      <td>2</td>\n",
       "      <td>4.0</td>\n",
       "      <td>2024-11-04</td>\n",
       "    </tr>\n",
       "    <tr>\n",
       "      <th>4</th>\n",
       "      <td>5</td>\n",
       "      <td>5</td>\n",
       "      <td>5</td>\n",
       "      <td>7</td>\n",
       "      <td>5.0</td>\n",
       "      <td>2024-11-05</td>\n",
       "    </tr>\n",
       "    <tr>\n",
       "      <th>5</th>\n",
       "      <td>6</td>\n",
       "      <td>6</td>\n",
       "      <td>6</td>\n",
       "      <td>1</td>\n",
       "      <td>6.0</td>\n",
       "      <td>2024-11-06</td>\n",
       "    </tr>\n",
       "    <tr>\n",
       "      <th>6</th>\n",
       "      <td>7</td>\n",
       "      <td>7</td>\n",
       "      <td>7</td>\n",
       "      <td>3</td>\n",
       "      <td>7.0</td>\n",
       "      <td>2024-11-07</td>\n",
       "    </tr>\n",
       "    <tr>\n",
       "      <th>7</th>\n",
       "      <td>8</td>\n",
       "      <td>8</td>\n",
       "      <td>8</td>\n",
       "      <td>6</td>\n",
       "      <td>8.0</td>\n",
       "      <td>2024-11-08</td>\n",
       "    </tr>\n",
       "    <tr>\n",
       "      <th>8</th>\n",
       "      <td>9</td>\n",
       "      <td>9</td>\n",
       "      <td>9</td>\n",
       "      <td>2</td>\n",
       "      <td>9.0</td>\n",
       "      <td>2024-11-09</td>\n",
       "    </tr>\n",
       "    <tr>\n",
       "      <th>9</th>\n",
       "      <td>10</td>\n",
       "      <td>10</td>\n",
       "      <td>10</td>\n",
       "      <td>4</td>\n",
       "      <td>10.0</td>\n",
       "      <td>2024-11-10</td>\n",
       "    </tr>\n",
       "  </tbody>\n",
       "</table>\n",
       "</div>"
      ],
      "text/plain": [
       "   ID_CONSUMO  ID_USUARIO  ID_COMODO  ID_ITEM_CASA  CONSUMO DATA_CONSUMO\n",
       "0           1           1          1             5      1.0   2024-11-01\n",
       "1           2           2          2             3      2.0   2024-11-02\n",
       "2           3           3          3             4      3.0   2024-11-03\n",
       "3           4           4          4             2      4.0   2024-11-04\n",
       "4           5           5          5             7      5.0   2024-11-05\n",
       "5           6           6          6             1      6.0   2024-11-06\n",
       "6           7           7          7             3      7.0   2024-11-07\n",
       "7           8           8          8             6      8.0   2024-11-08\n",
       "8           9           9          9             2      9.0   2024-11-09\n",
       "9          10          10         10             4     10.0   2024-11-10"
      ]
     },
     "execution_count": 10,
     "metadata": {},
     "output_type": "execute_result"
    }
   ],
   "source": [
    "df_consumo"
   ]
  },
  {
   "cell_type": "code",
   "execution_count": 11,
   "metadata": {},
   "outputs": [
    {
     "ename": "KeyError",
     "evalue": "\"None of [Index(['id_item_casa', 'id_comodo'], dtype='object')] are in the [columns]\"",
     "output_type": "error",
     "traceback": [
      "\u001b[0;31m---------------------------------------------------------------------------\u001b[0m",
      "\u001b[0;31mKeyError\u001b[0m                                  Traceback (most recent call last)",
      "Cell \u001b[0;32mIn[11], line 1\u001b[0m\n\u001b[0;32m----> 1\u001b[0m dados_encoded \u001b[38;5;241m=\u001b[39m \u001b[43mpd\u001b[49m\u001b[38;5;241;43m.\u001b[39;49m\u001b[43mget_dummies\u001b[49m\u001b[43m(\u001b[49m\u001b[43mdf_consumo\u001b[49m\u001b[43m,\u001b[49m\u001b[43m \u001b[49m\u001b[43mcolumns\u001b[49m\u001b[38;5;241;43m=\u001b[39;49m\u001b[43m[\u001b[49m\u001b[38;5;124;43m'\u001b[39;49m\u001b[38;5;124;43mid_item_casa\u001b[39;49m\u001b[38;5;124;43m'\u001b[39;49m\u001b[43m,\u001b[49m\u001b[43m \u001b[49m\u001b[38;5;124;43m'\u001b[39;49m\u001b[38;5;124;43mid_comodo\u001b[39;49m\u001b[38;5;124;43m'\u001b[39;49m\u001b[43m]\u001b[49m\u001b[43m,\u001b[49m\u001b[43m \u001b[49m\u001b[43mdrop_first\u001b[49m\u001b[38;5;241;43m=\u001b[39;49m\u001b[38;5;28;43;01mTrue\u001b[39;49;00m\u001b[43m)\u001b[49m\n\u001b[1;32m      3\u001b[0m \u001b[38;5;66;03m# Garantir que as colunas de entrada estão alinhadas com as do modelo\u001b[39;00m\n\u001b[1;32m      4\u001b[0m \u001b[38;5;28;01mfor\u001b[39;00m coluna \u001b[38;5;129;01min\u001b[39;00m modelo\u001b[38;5;241m.\u001b[39mfeature_names_in_:\n",
      "File \u001b[0;32m/Library/Frameworks/Python.framework/Versions/3.12/lib/python3.12/site-packages/pandas/core/reshape/encoding.py:169\u001b[0m, in \u001b[0;36mget_dummies\u001b[0;34m(data, prefix, prefix_sep, dummy_na, columns, sparse, drop_first, dtype)\u001b[0m\n\u001b[1;32m    167\u001b[0m     \u001b[38;5;28;01mraise\u001b[39;00m \u001b[38;5;167;01mTypeError\u001b[39;00m(\u001b[38;5;124m\"\u001b[39m\u001b[38;5;124mInput must be a list-like for parameter `columns`\u001b[39m\u001b[38;5;124m\"\u001b[39m)\n\u001b[1;32m    168\u001b[0m \u001b[38;5;28;01melse\u001b[39;00m:\n\u001b[0;32m--> 169\u001b[0m     data_to_encode \u001b[38;5;241m=\u001b[39m \u001b[43mdata\u001b[49m\u001b[43m[\u001b[49m\u001b[43mcolumns\u001b[49m\u001b[43m]\u001b[49m\n\u001b[1;32m    171\u001b[0m \u001b[38;5;66;03m# validate prefixes and separator to avoid silently dropping cols\u001b[39;00m\n\u001b[1;32m    172\u001b[0m \u001b[38;5;28;01mdef\u001b[39;00m \u001b[38;5;21mcheck_len\u001b[39m(item, name: \u001b[38;5;28mstr\u001b[39m):\n",
      "File \u001b[0;32m/Library/Frameworks/Python.framework/Versions/3.12/lib/python3.12/site-packages/pandas/core/frame.py:4108\u001b[0m, in \u001b[0;36mDataFrame.__getitem__\u001b[0;34m(self, key)\u001b[0m\n\u001b[1;32m   4106\u001b[0m     \u001b[38;5;28;01mif\u001b[39;00m is_iterator(key):\n\u001b[1;32m   4107\u001b[0m         key \u001b[38;5;241m=\u001b[39m \u001b[38;5;28mlist\u001b[39m(key)\n\u001b[0;32m-> 4108\u001b[0m     indexer \u001b[38;5;241m=\u001b[39m \u001b[38;5;28;43mself\u001b[39;49m\u001b[38;5;241;43m.\u001b[39;49m\u001b[43mcolumns\u001b[49m\u001b[38;5;241;43m.\u001b[39;49m\u001b[43m_get_indexer_strict\u001b[49m\u001b[43m(\u001b[49m\u001b[43mkey\u001b[49m\u001b[43m,\u001b[49m\u001b[43m \u001b[49m\u001b[38;5;124;43m\"\u001b[39;49m\u001b[38;5;124;43mcolumns\u001b[39;49m\u001b[38;5;124;43m\"\u001b[39;49m\u001b[43m)\u001b[49m[\u001b[38;5;241m1\u001b[39m]\n\u001b[1;32m   4110\u001b[0m \u001b[38;5;66;03m# take() does not accept boolean indexers\u001b[39;00m\n\u001b[1;32m   4111\u001b[0m \u001b[38;5;28;01mif\u001b[39;00m \u001b[38;5;28mgetattr\u001b[39m(indexer, \u001b[38;5;124m\"\u001b[39m\u001b[38;5;124mdtype\u001b[39m\u001b[38;5;124m\"\u001b[39m, \u001b[38;5;28;01mNone\u001b[39;00m) \u001b[38;5;241m==\u001b[39m \u001b[38;5;28mbool\u001b[39m:\n",
      "File \u001b[0;32m/Library/Frameworks/Python.framework/Versions/3.12/lib/python3.12/site-packages/pandas/core/indexes/base.py:6200\u001b[0m, in \u001b[0;36mIndex._get_indexer_strict\u001b[0;34m(self, key, axis_name)\u001b[0m\n\u001b[1;32m   6197\u001b[0m \u001b[38;5;28;01melse\u001b[39;00m:\n\u001b[1;32m   6198\u001b[0m     keyarr, indexer, new_indexer \u001b[38;5;241m=\u001b[39m \u001b[38;5;28mself\u001b[39m\u001b[38;5;241m.\u001b[39m_reindex_non_unique(keyarr)\n\u001b[0;32m-> 6200\u001b[0m \u001b[38;5;28;43mself\u001b[39;49m\u001b[38;5;241;43m.\u001b[39;49m\u001b[43m_raise_if_missing\u001b[49m\u001b[43m(\u001b[49m\u001b[43mkeyarr\u001b[49m\u001b[43m,\u001b[49m\u001b[43m \u001b[49m\u001b[43mindexer\u001b[49m\u001b[43m,\u001b[49m\u001b[43m \u001b[49m\u001b[43maxis_name\u001b[49m\u001b[43m)\u001b[49m\n\u001b[1;32m   6202\u001b[0m keyarr \u001b[38;5;241m=\u001b[39m \u001b[38;5;28mself\u001b[39m\u001b[38;5;241m.\u001b[39mtake(indexer)\n\u001b[1;32m   6203\u001b[0m \u001b[38;5;28;01mif\u001b[39;00m \u001b[38;5;28misinstance\u001b[39m(key, Index):\n\u001b[1;32m   6204\u001b[0m     \u001b[38;5;66;03m# GH 42790 - Preserve name from an Index\u001b[39;00m\n",
      "File \u001b[0;32m/Library/Frameworks/Python.framework/Versions/3.12/lib/python3.12/site-packages/pandas/core/indexes/base.py:6249\u001b[0m, in \u001b[0;36mIndex._raise_if_missing\u001b[0;34m(self, key, indexer, axis_name)\u001b[0m\n\u001b[1;32m   6247\u001b[0m \u001b[38;5;28;01mif\u001b[39;00m nmissing:\n\u001b[1;32m   6248\u001b[0m     \u001b[38;5;28;01mif\u001b[39;00m nmissing \u001b[38;5;241m==\u001b[39m \u001b[38;5;28mlen\u001b[39m(indexer):\n\u001b[0;32m-> 6249\u001b[0m         \u001b[38;5;28;01mraise\u001b[39;00m \u001b[38;5;167;01mKeyError\u001b[39;00m(\u001b[38;5;124mf\u001b[39m\u001b[38;5;124m\"\u001b[39m\u001b[38;5;124mNone of [\u001b[39m\u001b[38;5;132;01m{\u001b[39;00mkey\u001b[38;5;132;01m}\u001b[39;00m\u001b[38;5;124m] are in the [\u001b[39m\u001b[38;5;132;01m{\u001b[39;00maxis_name\u001b[38;5;132;01m}\u001b[39;00m\u001b[38;5;124m]\u001b[39m\u001b[38;5;124m\"\u001b[39m)\n\u001b[1;32m   6251\u001b[0m     not_found \u001b[38;5;241m=\u001b[39m \u001b[38;5;28mlist\u001b[39m(ensure_index(key)[missing_mask\u001b[38;5;241m.\u001b[39mnonzero()[\u001b[38;5;241m0\u001b[39m]]\u001b[38;5;241m.\u001b[39munique())\n\u001b[1;32m   6252\u001b[0m     \u001b[38;5;28;01mraise\u001b[39;00m \u001b[38;5;167;01mKeyError\u001b[39;00m(\u001b[38;5;124mf\u001b[39m\u001b[38;5;124m\"\u001b[39m\u001b[38;5;132;01m{\u001b[39;00mnot_found\u001b[38;5;132;01m}\u001b[39;00m\u001b[38;5;124m not in index\u001b[39m\u001b[38;5;124m\"\u001b[39m)\n",
      "\u001b[0;31mKeyError\u001b[0m: \"None of [Index(['id_item_casa', 'id_comodo'], dtype='object')] are in the [columns]\""
     ]
    }
   ],
   "source": [
    "\n",
    "dados_encoded = pd.get_dummies(df_consumo, columns=['id_item_casa', 'id_comodo'], drop_first=True)\n",
    "\n",
    "# Garantir que as colunas de entrada estão alinhadas com as do modelo\n",
    "for coluna in modelo.feature_names_in_:\n",
    "    if coluna not in dados_encoded.columns:\n",
    "        dados_encoded[coluna] = 0\n",
    "\n",
    "# Alinhar as colunas na mesma ordem do modelo\n",
    "dados_encoded = dados_encoded[modelo.feature_names_in_]\n",
    "\n",
    "# Fazer a previsão com o modelo treinado\n",
    "valor_previsto = modelo.predict(dados_encoded)\n",
    "\n",
    "# Agora você pode armazenar essas previsões na tabela de recomendações\n"
   ]
  }
 ],
 "metadata": {
  "kernelspec": {
   "display_name": "Python 3",
   "language": "python",
   "name": "python3"
  },
  "language_info": {
   "codemirror_mode": {
    "name": "ipython",
    "version": 3
   },
   "file_extension": ".py",
   "mimetype": "text/x-python",
   "name": "python",
   "nbconvert_exporter": "python",
   "pygments_lexer": "ipython3",
   "version": "3.12.4"
  }
 },
 "nbformat": 4,
 "nbformat_minor": 2
}
