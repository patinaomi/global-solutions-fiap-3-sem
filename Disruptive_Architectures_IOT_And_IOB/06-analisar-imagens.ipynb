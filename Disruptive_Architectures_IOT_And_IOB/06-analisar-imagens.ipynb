{
 "cells": [
  {
   "cell_type": "markdown",
   "metadata": {},
   "source": [
    "## Objetivo deste projeto\n",
    "\n",
    "Este projeto tem como objetivo desenvolver um modelo capaz de analisar imagens dos ambientes enviadas pelos clientes por meio de um website ou aplicativo móvel. O modelo identificará os eletrodomésticos presentes em cada ambiente, coletando informações sobre seu consumo de energia. A solução também enviará alertas aos clientes sempre que o consumo estiver acima do normal ou quando for detectada a necessidade de manutenção em algum equipamento."
   ]
  },
  {
   "cell_type": "markdown",
   "metadata": {},
   "source": [
    "**Instalar pacotes para usar no projeto**"
   ]
  },
  {
   "cell_type": "code",
   "execution_count": null,
   "metadata": {},
   "outputs": [],
   "source": [
    "# Instalar pip install opencv-python tensorflow\n"
   ]
  },
  {
   "cell_type": "markdown",
   "metadata": {},
   "source": [
    "**Importar bibliotecas**"
   ]
  },
  {
   "cell_type": "code",
   "execution_count": null,
   "metadata": {},
   "outputs": [],
   "source": [
    "import cv2\n",
    "import numpy as np\n",
    "import tensorflow as tf\n",
    "import torch\n",
    "from roboflow import Roboflow\n",
    "from ultralytics import YOLO\n",
    "\n",
    "# Instalar as dependências\n",
    "#!pip install ultralytics opencv-python-headless\n"
   ]
  },
  {
   "cell_type": "markdown",
   "metadata": {},
   "source": [
    "**Treinamento inicial será feito no Roboflow para conhecer os eletrodomesticos**\n",
    "\n",
    "https://app.roboflow.com/projetoiamoedas/eletrodomestico/annotate/batch/UnVbGO07WEUgtvryJGG1/createJob"
   ]
  },
  {
   "cell_type": "code",
   "execution_count": null,
   "metadata": {},
   "outputs": [],
   "source": [
    "#!pip install roboflow\n",
    "\n",
    "rf = Roboflow(api_key=\"xRFASytioZ171ZY1FEAD\")\n",
    "project = rf.workspace(\"projetoiamoedas\").project(\"eletrodomestico\")\n",
    "version = project.version(1)\n",
    "dataset = version.download(\"yolov4pytorch\")\n",
    "                     "
   ]
  },
  {
   "cell_type": "code",
   "execution_count": null,
   "metadata": {},
   "outputs": [],
   "source": [
    "!yolo task=detect mode=predict model=yolov8n-seg.pt conf=0.25 source='imagem-teste.jpeg' save=True"
   ]
  },
  {
   "cell_type": "code",
   "execution_count": null,
   "metadata": {},
   "outputs": [],
   "source": [
    "import cv2\n",
    "\n",
    "# Carregar a imagem\n",
    "img1 = cv2.imread('imagem-teste.jpeg')\n",
    "\n",
    "# Exibir a imagem\n",
    "#cv2.imshow(\"Imagem de Teste\", img1)\n",
    "\n",
    "# Esperar até que qualquer tecla seja pressionada\n",
    "#cv2.waitKey(0)\n",
    "\n",
    "# Fechar todas as janelas\n",
    "#cv2.destroyAllWindows()\n"
   ]
  },
  {
   "cell_type": "code",
   "execution_count": null,
   "metadata": {},
   "outputs": [],
   "source": [
    "!yolo task=detect mode=predict model=yolov8n-seg.pt conf=0.25 source='imagem-teste.jpeg' save=True"
   ]
  },
  {
   "cell_type": "markdown",
   "metadata": {},
   "source": [
    "**Imagem foi gerada na pasta content > runs > segment > predict**"
   ]
  },
  {
   "cell_type": "markdown",
   "metadata": {},
   "source": [
    "# Informações adicionais\n",
    "\n",
    "Este é um protótipo do que queremos implementar, uma vez que nosso painel estiver ativo em uma residência e o cliente deseja que nosso modelo identifique quais são os itens presentes. Hoje no site, o cliente pode inserir de forma manual esta informação também."
   ]
  }
 ],
 "metadata": {
  "kernelspec": {
   "display_name": "Python 3",
   "language": "python",
   "name": "python3"
  },
  "language_info": {
   "codemirror_mode": {
    "name": "ipython",
    "version": 3
   },
   "file_extension": ".py",
   "mimetype": "text/x-python",
   "name": "python",
   "nbconvert_exporter": "python",
   "pygments_lexer": "ipython3",
   "version": "3.12.4"
  }
 },
 "nbformat": 4,
 "nbformat_minor": 2
}
