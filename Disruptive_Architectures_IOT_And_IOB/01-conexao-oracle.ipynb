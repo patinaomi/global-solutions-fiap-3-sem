{
 "cells": [
  {
   "cell_type": "markdown",
   "metadata": {},
   "source": [
    "## 1. Coleta de Dados\n",
    "\n",
    "1.1. Criação da conexão\n",
    "\n",
    "1.2. Consulta na tabela\n",
    "\n",
    "1.3. Inserir dados\n",
    "\n",
    "1.4. Excluir dados"
   ]
  },
  {
   "cell_type": "code",
   "execution_count": 8,
   "metadata": {},
   "outputs": [],
   "source": [
    "import pandas as pd\n",
    "import oracledb\n",
    "import autenticacao\n"
   ]
  },
  {
   "cell_type": "code",
   "execution_count": 11,
   "metadata": {},
   "outputs": [],
   "source": [
    "class OperacaoBancoDados:\n",
    "    def __init__(self, nome_tabela: str, nome_conexao: str):\n",
    "        self.db_config = dados_autenticar[\"credencial_banco\"]\n",
    "        self.nome_tabela = nome_tabela\n",
    "        self.nome_conexao = nome_conexao\n",
    "        self.conexao = None\n",
    "\n",
    "    def conectar(self):\n",
    "        \"\"\"Método para conectar ao banco de dados Oracle.\"\"\"\n",
    "        try:\n",
    "            self.conexao = oracledb.connect(\n",
    "                user=self.db_config['usuario'], \n",
    "                password=self.db_config['senha'], \n",
    "                dsn=self.db_config['dsn'], \n",
    "                mode=oracledb.DEFAULT_AUTH\n",
    "            )\n",
    "            print(\"Conexão com o banco de dados Oracle estabelecida com sucesso.\")\n",
    "        except oracledb.DatabaseError as e:\n",
    "            print(f\"Erro ao conectar ao banco de dados: {e}\")\n",
    "            self.conexao = None\n",
    "        return self.conexao\n",
    "\n",
    "    \n",
    "    def executar_consulta(self, consulta: str):\n",
    "        \"\"\"Método para executar uma consulta SQL e retornar os dados em um DataFrame.\"\"\"\n",
    "        if self.conexao:\n",
    "            try:\n",
    "                # Carregar dados em um DataFrame usando pandas\n",
    "                df = pd.read_sql(consulta, self.conexao)\n",
    "                return df\n",
    "            except Exception as e:\n",
    "                print(f\"Erro ao executar a consulta: {e}\")\n",
    "                return None\n",
    "        else:\n",
    "            print(\"Conexão não estabelecida.\")\n",
    "            return None\n",
    "\n",
    "    def fechar_conexao(self):\n",
    "        \"\"\"Método para fechar a conexão com o banco de dados.\"\"\"\n",
    "        if self.conexao:\n",
    "            self.conexao.close()\n",
    "            print(\"Conexão com o banco de dados fechada.\")\n",
    "        else:\n",
    "            print(\"Nenhuma conexão aberta para fechar.\")\n",
    "\n",
    "\n"
   ]
  },
  {
   "cell_type": "code",
   "execution_count": 13,
   "metadata": {},
   "outputs": [
    {
     "name": "stdout",
     "output_type": "stream",
     "text": [
      "Conexão com o banco de dados Oracle estabelecida com sucesso.\n"
     ]
    }
   ],
   "source": [
    "# Criando uma instância da classe e passando o nome da tabela e nome da conexão\n",
    "banco_dados = OperacaoBancoDados(\n",
    "    nome_tabela='T_Usuario',\n",
    "    nome_conexao='ConexaoOracle'  \n",
    ")\n",
    "\n",
    "# Conectando ao banco\n",
    "conexao = banco_dados.conectar()"
   ]
  },
  {
   "cell_type": "code",
   "execution_count": 19,
   "metadata": {},
   "outputs": [
    {
     "name": "stdout",
     "output_type": "stream",
     "text": [
      "Erro ao executar a consulta: Execution failed on sql '\n",
      "    SELECT * FROM T_USUARIO\n",
      "': ORA-00942: table or view does not exist\n",
      "Help: https://docs.oracle.com/error-help/db/ora-00942/\n"
     ]
    },
    {
     "name": "stderr",
     "output_type": "stream",
     "text": [
      "/var/folders/38/6x4f55x100b7srd3m42bprm80000gn/T/ipykernel_74142/1627561300.py:29: UserWarning: pandas only supports SQLAlchemy connectable (engine/connection) or database string URI or sqlite3 DBAPI2 connection. Other DBAPI2 objects are not tested. Please consider using SQLAlchemy.\n",
      "  df = pd.read_sql(consulta, self.conexao)\n"
     ]
    }
   ],
   "source": [
    "query_usuario = \"\"\"\n",
    "    SELECT * FROM T_USUARIO\n",
    "\"\"\"\n",
    "\n",
    "# Executando a consulta e recebendo os dados em um DataFrame\n",
    "df_usuario = banco_dados.executar_consulta(query_usuario)"
   ]
  },
  {
   "cell_type": "code",
   "execution_count": 16,
   "metadata": {},
   "outputs": [
    {
     "data": {
      "text/html": [
       "<div>\n",
       "<style scoped>\n",
       "    .dataframe tbody tr th:only-of-type {\n",
       "        vertical-align: middle;\n",
       "    }\n",
       "\n",
       "    .dataframe tbody tr th {\n",
       "        vertical-align: top;\n",
       "    }\n",
       "\n",
       "    .dataframe thead th {\n",
       "        text-align: right;\n",
       "    }\n",
       "</style>\n",
       "<table border=\"1\" class=\"dataframe\">\n",
       "  <thead>\n",
       "    <tr style=\"text-align: right;\">\n",
       "      <th></th>\n",
       "      <th>Id</th>\n",
       "      <th>Nome</th>\n",
       "      <th>Sobrenome</th>\n",
       "      <th>Telefone</th>\n",
       "      <th>Email</th>\n",
       "      <th>Senha</th>\n",
       "    </tr>\n",
       "  </thead>\n",
       "  <tbody>\n",
       "    <tr>\n",
       "      <th>0</th>\n",
       "      <td>1</td>\n",
       "      <td>Claudio Silva</td>\n",
       "      <td>Bispo</td>\n",
       "      <td>11958757740</td>\n",
       "      <td>claudio_cssp@hotmail.com</td>\n",
       "      <td>123456</td>\n",
       "    </tr>\n",
       "  </tbody>\n",
       "</table>\n",
       "</div>"
      ],
      "text/plain": [
       "   Id           Nome Sobrenome     Telefone                     Email   Senha\n",
       "0   1  Claudio Silva     Bispo  11958757740  claudio_cssp@hotmail.com  123456"
      ]
     },
     "execution_count": 16,
     "metadata": {},
     "output_type": "execute_result"
    }
   ],
   "source": [
    "df_usuario"
   ]
  },
  {
   "cell_type": "code",
   "execution_count": 18,
   "metadata": {},
   "outputs": [
    {
     "name": "stderr",
     "output_type": "stream",
     "text": [
      "/var/folders/38/6x4f55x100b7srd3m42bprm80000gn/T/ipykernel_74142/1627561300.py:29: UserWarning: pandas only supports SQLAlchemy connectable (engine/connection) or database string URI or sqlite3 DBAPI2 connection. Other DBAPI2 objects are not tested. Please consider using SQLAlchemy.\n",
      "  df = pd.read_sql(consulta, self.conexao)\n"
     ]
    },
    {
     "data": {
      "text/html": [
       "<div>\n",
       "<style scoped>\n",
       "    .dataframe tbody tr th:only-of-type {\n",
       "        vertical-align: middle;\n",
       "    }\n",
       "\n",
       "    .dataframe tbody tr th {\n",
       "        vertical-align: top;\n",
       "    }\n",
       "\n",
       "    .dataframe thead th {\n",
       "        text-align: right;\n",
       "    }\n",
       "</style>\n",
       "<table border=\"1\" class=\"dataframe\">\n",
       "  <thead>\n",
       "    <tr style=\"text-align: right;\">\n",
       "      <th></th>\n",
       "      <th>Id</th>\n",
       "      <th>IdUsuario</th>\n",
       "      <th>Descricao</th>\n",
       "    </tr>\n",
       "  </thead>\n",
       "  <tbody>\n",
       "  </tbody>\n",
       "</table>\n",
       "</div>"
      ],
      "text/plain": [
       "Empty DataFrame\n",
       "Columns: [Id, IdUsuario, Descricao]\n",
       "Index: []"
      ]
     },
     "execution_count": 18,
     "metadata": {},
     "output_type": "execute_result"
    }
   ],
   "source": [
    "query_comodo = \"\"\"\n",
    "    SELECT * FROM T_COMODO\n",
    "\"\"\"\n",
    "\n",
    "# Executando a consulta e recebendo os dados em um DataFrame\n",
    "df_comodo = banco_dados.executar_consulta(query_comodo)\n",
    "df_comodo"
   ]
  },
  {
   "cell_type": "code",
   "execution_count": 20,
   "metadata": {},
   "outputs": [],
   "source": [
    "import pandas as pd\n",
    "import random\n",
    "from datetime import datetime, timedelta\n",
    "import pandas as pd\n",
    "\n",
    "# Dados de ambientes e itens\n",
    "ambientes = ['sala', 'cozinha', 'quarto1', 'quarto2', 'banheiro', 'lavanderia', 'sacada']\n",
    "itens = {\n",
    "    'sala': ['ar-condicionado', 'TV', 'luz'],\n",
    "    'cozinha': ['geladeira', 'micro-ondas', 'luz'],\n",
    "    'quarto1': ['ar-condicionado', 'luz'],\n",
    "    'quarto2': ['computador', 'luz'],\n",
    "    'banheiro': ['aquecedor', 'luz'],\n",
    "    'lavanderia': ['máquina de lavar'],\n",
    "    'sacada': ['luz']\n",
    "}\n",
    "\n",
    "##Turnos:\n",
    "##Turno 1 (Manhã): das 06:00 às 12:00\n",
    "##Turno 2 (Tarde): das 12:00 às 18:00\n",
    "##Turno 3 (Noite): das 18:00 às 00:00\n",
    "##Turno 4 (Madrugada): das 00:00 às 06:00\n",
    "\n",
    "# Função para gerar o consumo diário\n",
    "def gerar_consumo_diario():\n",
    "    # Consumo entre 0.5 kWh e 5 kWh\n",
    "    return round(random.uniform(0.5, 5.0), 2)\n",
    "\n",
    "# Função para calcular o custo baseado em tarifas diferenciadas\n",
    "def calcular_custo(consumo_kwh, turno):\n",
    "    # Tarifas (podem ser ajustadas conforme os turnos)\n",
    "    tarifas = {\n",
    "        'manha': 0.60,  # Turno Manhã: R$ 0,60 por kWh\n",
    "        'tarde': 0.60,  # Turno Tarde: R$ 0,60 por kWh\n",
    "        'noite': 0.75,  # Turno Noite (Ponta): R$ 0,75 por kWh\n",
    "        'madrugada': 0.50  # Turno Madrugada: R$ 0,50 por kWh\n",
    "    }\n",
    "    \n",
    "    # Aplique a tarifa do turno\n",
    "    tarifa = tarifas.get(turno, 0.60)  # Se o turno não for encontrado, assume tarifa de manhã/tarde\n",
    "    \n",
    "    # Impostos e taxas (porcentagens)\n",
    "    icms = 0.18  # ICMS (18%)\n",
    "    pis_cofins = 0.0384  # PIS/COFINS (3,84%)\n",
    "    outros_encargos = 0.05  # Outros encargos (5%)\n",
    "    \n",
    "    # Calculando o custo\n",
    "    custo_base = consumo_kwh * tarifa\n",
    "    custo_impostos = custo_base * (icms + pis_cofins)\n",
    "    custo_encargos = custo_base * outros_encargos\n",
    "    \n",
    "    # Cálculo final com impostos e encargos\n",
    "    custo_total = custo_base + custo_impostos + custo_encargos\n",
    "    return round(custo_total, 2)\n",
    "\n",
    "# Função para atribuir o turno baseado na data (sem considerar hora exata)\n",
    "def determinar_turno(data):\n",
    "    # Atribuir turnos com base no dia da semana e sua posição no mês\n",
    "    if data.weekday() < 5:  # Segunda a Sexta (turnos regulares)\n",
    "        if data.day % 4 == 0:\n",
    "            return 'noite'  # Simular que o consumo maior é à noite (pico)\n",
    "        else:\n",
    "            return 'manha'  # Fora ponta, simula o consumo durante o dia\n",
    "    else:  # Fim de semana, o consumo pode ser aleatório\n",
    "        return random.choice(['tarde', 'madrugada'])  # Simula consumo mais fora do horário de pico\n",
    "\n",
    "# Gerar dados para 2000 linhas\n",
    "dados = []\n",
    "data_inicio = datetime(2023, 1, 1)\n",
    "for i in range(2000):\n",
    "    data_consumo = data_inicio + timedelta(days=i)\n",
    "    ambiente = random.choice(ambientes)\n",
    "    item = random.choice(itens[ambiente])\n",
    "    consumo_diario = gerar_consumo_diario()\n",
    "    \n",
    "    # Determinar o turno\n",
    "    turno = determinar_turno(data_consumo)\n",
    "    \n",
    "    # Calcular o custo com base no turno\n",
    "    custo = calcular_custo(consumo_diario, turno)\n",
    "    \n",
    "    # Adicionar linha de dados\n",
    "    dados.append({\n",
    "        'data': data_consumo.strftime('%Y-%m-%d'),\n",
    "        'turno': turno,\n",
    "        'ambiente': ambiente,\n",
    "        'item': item,\n",
    "        'consumo_kwh': consumo_diario,\n",
    "        'custo_estimado': custo\n",
    "    })\n",
    "\n",
    "# Criar o DataFrame\n",
    "df = pd.DataFrame(dados)\n",
    "\n",
    "# Exibir as primeiras linhas do DataFrame\n",
    "df.head(10)\n",
    "\n",
    "# Salvar os dados em um arquivo CSV\n",
    "df.to_csv('historico_consumo', index=False)\n"
   ]
  }
 ],
 "metadata": {
  "kernelspec": {
   "display_name": "Python 3",
   "language": "python",
   "name": "python3"
  },
  "language_info": {
   "codemirror_mode": {
    "name": "ipython",
    "version": 3
   },
   "file_extension": ".py",
   "mimetype": "text/x-python",
   "name": "python",
   "nbconvert_exporter": "python",
   "pygments_lexer": "ipython3",
   "version": "3.12.4"
  }
 },
 "nbformat": 4,
 "nbformat_minor": 2
}
